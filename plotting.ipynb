{
 "cells": [
  {
   "cell_type": "code",
   "execution_count": 1,
   "id": "df48a001",
   "metadata": {},
   "outputs": [],
   "source": [
    "import pandas as pd\n",
    "import numpy as np\n",
    "import matplotlib.pyplot as plt"
   ]
  },
  {
   "cell_type": "markdown",
   "id": "2ee9d984",
   "metadata": {},
   "source": [
    "### ---------------------------------- OBS POINT ----------------------------------"
   ]
  },
  {
   "cell_type": "code",
   "execution_count": null,
   "id": "57cfb522",
   "metadata": {},
   "outputs": [],
   "source": [
    "# Obs Point File Reading\n",
    "obs_columns = ['x', 'y', 'mag', 'pos_err', 'mag_err', 'td', 'td_err', 'parity']\n",
    "first_row_columns = ['id', 'n_img', 'zs', 'zs_err']\n",
    "obs_point = pd.read_csv('Test/obs_point+flux.dat', skiprows=1, header=None, names=obs_columns, delim_whitespace=True)\n",
    "first_row = pd.read_csv('Test/obs_point+flux.dat', nrows=1, header=None, names=first_row_columns, delim_whitespace=True)"
   ]
  },
  {
   "cell_type": "code",
   "execution_count": null,
   "id": "40516d90",
   "metadata": {},
   "outputs": [],
   "source": [
    "# Assigning Names to the Images"
   ]
  }
 ],
 "metadata": {
  "kernelspec": {
   "display_name": "Python 3",
   "language": "python",
   "name": "python3"
  },
  "language_info": {
   "codemirror_mode": {
    "name": "ipython",
    "version": 3
   },
   "file_extension": ".py",
   "mimetype": "text/x-python",
   "name": "python",
   "nbconvert_exporter": "python",
   "pygments_lexer": "ipython3",
   "version": "3.11.5"
  }
 },
 "nbformat": 4,
 "nbformat_minor": 5
}
