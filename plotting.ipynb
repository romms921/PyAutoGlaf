{
 "cells": [
  {
   "cell_type": "code",
   "execution_count": 1,
   "id": "df48a001",
   "metadata": {},
   "outputs": [],
   "source": [
    "import pandas as pd\n",
    "import numpy as np\n",
    "import matplotlib.pyplot as plt"
   ]
  },
  {
   "cell_type": "markdown",
   "id": "2ee9d984",
   "metadata": {},
   "source": [
    "### ---------------------------------- OBS POINT ----------------------------------"
   ]
  },
  {
   "cell_type": "code",
   "execution_count": 2,
   "id": "57cfb522",
   "metadata": {},
   "outputs": [],
   "source": [
    "# Obs Point File Reading\n",
    "obs_columns = ['x', 'y', 'mag', 'pos_err', 'mag_err', 'td', 'td_err', 'parity']\n",
    "first_row_columns = ['id', 'n_img', 'zs', 'zs_err']\n",
    "obs_point = pd.read_csv('Test/obs_point+flux.dat', skiprows=1, header=None, names=obs_columns, delim_whitespace=True)\n",
    "first_row = pd.read_csv('Test/obs_point+flux.dat', nrows=1, header=None, names=first_row_columns, delim_whitespace=True)"
   ]
  },
  {
   "cell_type": "code",
   "execution_count": 6,
   "id": "40516d90",
   "metadata": {},
   "outputs": [],
   "source": [
    "# Assigning Names to the Images\n",
    "# Find brightest image\n",
    "brightest_index = obs_point['mag'].idxmax()\n",
    "obs_point.at[brightest_index, 'Img'] = 'A'\n",
    "\n",
    "# Clockwise assignment of names from Img A \n",
    "def assign_image_names(df, start_index):\n",
    "    names = ['A', 'B', 'C', 'D']\n",
    "    current_name_index = 0\n",
    "    current_index = start_index\n",
    "    assigned_indices = {current_index}\n",
    "    \n",
    "    while len(assigned_indices) < len(df):\n",
    "        current_x, current_y = df.at[current_index, 'x'], df.at[current_index, 'y']\n",
    "        next_index = None\n",
    "        min_angle = float('inf')\n",
    "        \n",
    "        for i in range(len(df)):\n",
    "            if i in assigned_indices:\n",
    "                continue\n",
    "            dx = df.at[i, 'x'] - current_x\n",
    "            dy = df.at[i, 'y'] - current_y\n",
    "            angle = np.arctan2(dy, dx)\n",
    "            if angle < min_angle:\n",
    "                min_angle = angle\n",
    "                next_index = i\n",
    "        \n",
    "        if next_index is not None:\n",
    "            current_name_index += 1\n",
    "            df.at[next_index, 'Img'] = names[current_name_index]\n",
    "            assigned_indices.add(next_index)\n",
    "            current_index = next_index\n",
    "\n",
    "assign_image_names(obs_point, brightest_index)\n"
   ]
  },
  {
   "cell_type": "code",
   "execution_count": 7,
   "id": "dd00c0fb",
   "metadata": {},
   "outputs": [
    {
     "data": {
      "application/vnd.microsoft.datawrangler.viewer.v0+json": {
       "columns": [
        {
         "name": "index",
         "rawType": "int64",
         "type": "integer"
        },
        {
         "name": "x",
         "rawType": "float64",
         "type": "float"
        },
        {
         "name": "y",
         "rawType": "float64",
         "type": "float"
        },
        {
         "name": "mag",
         "rawType": "float64",
         "type": "float"
        },
        {
         "name": "pos_err",
         "rawType": "float64",
         "type": "float"
        },
        {
         "name": "mag_err",
         "rawType": "float64",
         "type": "float"
        },
        {
         "name": "td",
         "rawType": "float64",
         "type": "float"
        },
        {
         "name": "td_err",
         "rawType": "float64",
         "type": "float"
        },
        {
         "name": "parity",
         "rawType": "float64",
         "type": "float"
        },
        {
         "name": "Img",
         "rawType": "object",
         "type": "string"
        }
       ],
       "ref": "9abb3bf3-3c96-43f3-a0e9-8b9d890c08b8",
       "rows": [
        [
         "0",
         "0.187",
         "-0.563",
         "1.0",
         "0.005",
         "0.02",
         "0.0",
         "0.0",
         "0.0",
         "A"
        ],
        [
         "1",
         "0.44",
         "-0.348",
         "0.75",
         "0.005",
         "0.02",
         "0.0",
         "0.0",
         "0.0",
         "B"
        ],
        [
         "2",
         "0.023",
         "0.865",
         "0.31",
         "0.005",
         "0.02",
         "0.0",
         "0.0",
         "0.0",
         "C"
        ],
        [
         "3",
         "-0.548",
         "-0.179",
         "0.28",
         "0.005",
         "0.01",
         "0.0",
         "0.0",
         "0.0",
         "D"
        ]
       ],
       "shape": {
        "columns": 9,
        "rows": 4
       }
      },
      "text/html": [
       "<div>\n",
       "<style scoped>\n",
       "    .dataframe tbody tr th:only-of-type {\n",
       "        vertical-align: middle;\n",
       "    }\n",
       "\n",
       "    .dataframe tbody tr th {\n",
       "        vertical-align: top;\n",
       "    }\n",
       "\n",
       "    .dataframe thead th {\n",
       "        text-align: right;\n",
       "    }\n",
       "</style>\n",
       "<table border=\"1\" class=\"dataframe\">\n",
       "  <thead>\n",
       "    <tr style=\"text-align: right;\">\n",
       "      <th></th>\n",
       "      <th>x</th>\n",
       "      <th>y</th>\n",
       "      <th>mag</th>\n",
       "      <th>pos_err</th>\n",
       "      <th>mag_err</th>\n",
       "      <th>td</th>\n",
       "      <th>td_err</th>\n",
       "      <th>parity</th>\n",
       "      <th>Img</th>\n",
       "    </tr>\n",
       "  </thead>\n",
       "  <tbody>\n",
       "    <tr>\n",
       "      <th>0</th>\n",
       "      <td>0.187</td>\n",
       "      <td>-0.563</td>\n",
       "      <td>1.00</td>\n",
       "      <td>0.005</td>\n",
       "      <td>0.02</td>\n",
       "      <td>0.0</td>\n",
       "      <td>0.0</td>\n",
       "      <td>0.0</td>\n",
       "      <td>A</td>\n",
       "    </tr>\n",
       "    <tr>\n",
       "      <th>1</th>\n",
       "      <td>0.440</td>\n",
       "      <td>-0.348</td>\n",
       "      <td>0.75</td>\n",
       "      <td>0.005</td>\n",
       "      <td>0.02</td>\n",
       "      <td>0.0</td>\n",
       "      <td>0.0</td>\n",
       "      <td>0.0</td>\n",
       "      <td>B</td>\n",
       "    </tr>\n",
       "    <tr>\n",
       "      <th>2</th>\n",
       "      <td>0.023</td>\n",
       "      <td>0.865</td>\n",
       "      <td>0.31</td>\n",
       "      <td>0.005</td>\n",
       "      <td>0.02</td>\n",
       "      <td>0.0</td>\n",
       "      <td>0.0</td>\n",
       "      <td>0.0</td>\n",
       "      <td>C</td>\n",
       "    </tr>\n",
       "    <tr>\n",
       "      <th>3</th>\n",
       "      <td>-0.548</td>\n",
       "      <td>-0.179</td>\n",
       "      <td>0.28</td>\n",
       "      <td>0.005</td>\n",
       "      <td>0.01</td>\n",
       "      <td>0.0</td>\n",
       "      <td>0.0</td>\n",
       "      <td>0.0</td>\n",
       "      <td>D</td>\n",
       "    </tr>\n",
       "  </tbody>\n",
       "</table>\n",
       "</div>"
      ],
      "text/plain": [
       "       x      y   mag  pos_err  mag_err   td  td_err  parity Img\n",
       "0  0.187 -0.563  1.00    0.005     0.02  0.0     0.0     0.0   A\n",
       "1  0.440 -0.348  0.75    0.005     0.02  0.0     0.0     0.0   B\n",
       "2  0.023  0.865  0.31    0.005     0.02  0.0     0.0     0.0   C\n",
       "3 -0.548 -0.179  0.28    0.005     0.01  0.0     0.0     0.0   D"
      ]
     },
     "execution_count": 7,
     "metadata": {},
     "output_type": "execute_result"
    }
   ],
   "source": [
    "obs_point"
   ]
  },
  {
   "cell_type": "code",
   "execution_count": 11,
   "id": "35321543",
   "metadata": {},
   "outputs": [
    {
     "data": {
      "image/png": "[encoded data removed]",
      "text/plain": [
       "<Figure size 640x480 with 1 Axes>"
      ]
     },
     "metadata": {},
     "output_type": "display_data"
    }
   ],
   "source": [
    "plt.scatter(obs_point['x'], obs_point['y'])\n",
    "for i, row in obs_point.iterrows():\n",
    "    plt.text(row['x'], row['y'], row['Img'], fontsize=12, ha='center', va='center')"
   ]
  }
 ],
 "metadata": {
  "kernelspec": {
   "display_name": "Python 3",
   "language": "python",
   "name": "python3"
  },
  "language_info": {
   "codemirror_mode": {
    "name": "ipython",
    "version": 3
   },
   "file_extension": ".py",
   "mimetype": "text/x-python",
   "name": "python",
   "nbconvert_exporter": "python",
   "pygments_lexer": "ipython3",
   "version": "3.11.5"
  }
 },
 "nbformat": 4,
 "nbformat_minor": 5
}
