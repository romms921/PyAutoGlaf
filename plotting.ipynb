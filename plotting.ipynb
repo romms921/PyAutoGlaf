{
 "cells": [
  {
   "cell_type": "code",
   "execution_count": 424,
   "id": "df48a001",
   "metadata": {},
   "outputs": [],
   "source": [
    "import pandas as pd\n",
    "import numpy as np\n",
    "import matplotlib.pyplot as plt"
   ]
  },
  {
   "cell_type": "markdown",
   "id": "1d2d306c",
   "metadata": {},
   "source": [
    "### ----------------------------------------- READ CONFIG FILE -----------------------------------------"
   ]
  },
  {
   "cell_type": "code",
   "execution_count": 425,
   "id": "789e0b13",
   "metadata": {},
   "outputs": [
    {
     "name": "stdout",
     "output_type": "stream",
     "text": [
      "Using constraint: pos+flux\n",
      "Using omega: 0.3\n",
      "Using lambda: 0.7\n",
      "Using weos: -1.0\n",
      "Using Hubble constant: 0.7\n",
      "Using x_low: -3.5\n",
      "Using x_up: 3.5\n",
      "Using y_low: -3.5\n",
      "Using y_up: 3.5\n",
      "Using exten_pix: 0.01\n",
      "Using point_pix: 0.01\n",
      "Using maxlev: 1\n",
      "Using chi2_plane: 1\n",
      "Using usemag: 0\n",
      "Using readobs: 'Test/input.dat'\n",
      "Using optimize: 1\n",
      "Using findimg: 1\n",
      "Using writecrit: 1\n",
      "Using writelens: 1\n",
      "Using model: POW+SHEAR\n",
      "Using path: Test/\n",
      "Using init_param: 'Random'\n",
      "Using zl: 0.23\n",
      "Config file read successfully.\n"
     ]
    }
   ],
   "source": [
    "config_file = 'Test/config.dat'\n",
    "\n",
    "# Read the config file\n",
    "with open(config_file, 'r') as f:\n",
    "    lines = f.readlines()\n",
    "\n",
    "# Extract relevant parameters from the config file\n",
    "for line in lines:\n",
    "    try:\n",
    "        if line.startswith('CONSTRAINT'):\n",
    "            constraint = line.split('=', 1)[1].split('#')[0].strip()\n",
    "            constraint = str(constraint)\n",
    "    except Exception as e:\n",
    "        print(f\"Error parsing CONSTRAINT: {e}\")\n",
    "\n",
    "    try:\n",
    "        if line.startswith('OMEGA'):\n",
    "            omega = line.split('=', 1)[1].split('#')[0].strip()\n",
    "            omega = float(omega)\n",
    "    except Exception as e:\n",
    "        print(f\"Error parsing OMEGA: {e}\")\n",
    "    \n",
    "    try:\n",
    "        if line.startswith('LAMBDA'):\n",
    "            lambdac = line.split('=', 1)[1].split('#')[0].strip()\n",
    "            lambdac = float(lambdac)\n",
    "    except Exception as e:\n",
    "        print(f\"Error parsing LAMBDA: {e}\")\n",
    "    \n",
    "    try:\n",
    "        if line.startswith('WEOS'):\n",
    "            weos = line.split('=', 1)[1].split('#')[0].strip()\n",
    "            weos = float(weos)\n",
    "    except Exception as e:\n",
    "        print(f\"Error parsing WEOS: {e}\")\n",
    "\n",
    "    try:\n",
    "        if line.startswith('HUBBLE CONSTANT'):\n",
    "            h0 = line.split('=', 1)[1].split('#')[0].strip()\n",
    "            h0 = float(h0)\n",
    "    except Exception as e:\n",
    "        print(f\"Error parsing HUBBLE CONSTANT: {e}\")\n",
    "    \n",
    "    try:\n",
    "        if line.startswith('X_LOW'):\n",
    "            x_low = line.split('=', 1)[1].split('#')[0].strip()\n",
    "            x_low = float(x_low)\n",
    "    except Exception as e:\n",
    "        print(f\"Error parsing X_LOW: {e}\")\n",
    "    \n",
    "    try:\n",
    "        if line.startswith('X_UP'):\n",
    "            x_up = line.split('=', 1)[1].split('#')[0].strip()\n",
    "            x_up = float(x_up)\n",
    "    except Exception as e:\n",
    "        print(f\"Error parsing X_UP: {e}\")\n",
    "\n",
    "    try:\n",
    "        if line.startswith('Y_LOW'):\n",
    "            y_low = line.split('=', 1)[1].split('#')[0].strip()\n",
    "            y_low = float(y_low)\n",
    "    except Exception as e:\n",
    "        print(f\"Error parsing Y_LOW: {e}\")\n",
    "    \n",
    "    try:\n",
    "        if line.startswith('Y_UP'):\n",
    "            y_up = line.split('=', 1)[1].split('#')[0].strip()\n",
    "            y_up = float(y_up)\n",
    "    except Exception as e:\n",
    "        print(f\"Error parsing Y_UP: {e}\")\n",
    "\n",
    "    try:\n",
    "        if line.startswith('EXTEN_PIX'):\n",
    "            exten_pix = line.split('=', 1)[1].split('#')[0].strip()\n",
    "            exten_pix = float(exten_pix)\n",
    "    except Exception as e:\n",
    "        print(f\"Error parsing EXTEN_PIX: {e}\")\n",
    "    \n",
    "    try:\n",
    "        if line.startswith('POINT_PIX'):\n",
    "            point_pix = line.split('=', 1)[1].split('#')[0].strip()\n",
    "            point_pix = float(point_pix)\n",
    "    except Exception as e:\n",
    "        print(f\"Error parsing POINT_PIX: {e}\")\n",
    "\n",
    "    try:\n",
    "        if line.startswith('MAXLEV'):\n",
    "            maxlev = line.split('=', 1)[1].split('#')[0].strip()\n",
    "            maxlev = str(maxlev)\n",
    "    except Exception as e:\n",
    "        print(f\"Error parsing MAXLEV: {e}\")\n",
    "\n",
    "    try:\n",
    "        if line.startswith('CHI2_PLANE'):\n",
    "            chi2_plane = line.split('=', 1)[1].split('#')[0].strip()\n",
    "            chi2_plane = str(chi2_plane)\n",
    "    except Exception as e:\n",
    "        print(f\"Error parsing CHI2_PLANE: {e}\")\n",
    "    \n",
    "    try:\n",
    "        if line.startswith('USEMAG'):\n",
    "            usemag = line.split('=', 1)[1].split('#')[0].strip()\n",
    "            usemag = int(usemag)\n",
    "    except Exception as e:\n",
    "        print(f\"Error parsing USEMAG: {e}\")\n",
    "    \n",
    "    try:\n",
    "        if line.startswith('READOBS'):\n",
    "            readobs = line.split('=', 1)[1].split('#')[0].strip()\n",
    "            readobs = str(readobs)\n",
    "    except Exception as e:\n",
    "        print(f\"Error parsing READOBS: {e}\")\n",
    "    \n",
    "    try:\n",
    "        if line.startswith('OPTIMIZE'):\n",
    "            optimize = line.split('=', 1)[1].split('#')[0].strip()\n",
    "            optimize = int(optimize)\n",
    "    except Exception as e:\n",
    "        print(f\"Error parsing OPTIMIZE: {e}\")\n",
    "    \n",
    "    try:\n",
    "        if line.startswith('FINDIMG'):\n",
    "            findimg = line.split('=', 1)[1].split('#')[0].strip()\n",
    "            findimg = int(findimg)\n",
    "    except Exception as e:\n",
    "        print(f\"Error parsing FINDIMG: {e}\")\n",
    "    \n",
    "    try:\n",
    "        if line.startswith('WRITECRIT'):\n",
    "            writecrit = line.split('=', 1)[1].split('#')[0].strip()\n",
    "            writecrit = int(writecrit)\n",
    "    except Exception as e:\n",
    "        print(f\"Error parsing WRITECRIT: {e}\")\n",
    "    \n",
    "    try:\n",
    "        if line.startswith('WRITELENS'):\n",
    "            writelens = line.split('=', 1)[1].split('#')[0].strip()\n",
    "            writelens = int(writelens)\n",
    "    except Exception as e:\n",
    "        print(f\"Error parsing WRITELENS: {e}\")\n",
    "\n",
    "    try:\n",
    "        if line.startswith('MODEL'):\n",
    "            basemodel = line.split('=', 1)[1].split('#')[0].strip()\n",
    "            basemodel = str(basemodel)\n",
    "    except Exception as e:\n",
    "        print(f\"Error parsing MODEL: {e}\")\n",
    "\n",
    "    try:\n",
    "        if line.startswith('PATH'):\n",
    "            path = line.split('=', 1)[1].split('#')[0].strip()\n",
    "            path = str(path)\n",
    "    except Exception as e:\n",
    "        print(f\"Error parsing PATH: {e}\")\n",
    "    \n",
    "    try:\n",
    "        if line.startswith('INIT_PARAM'):\n",
    "            init_param = line.split('=', 1)[1].split('#')[0].strip()\n",
    "            init_param = str(init_param)\n",
    "    except Exception as e:\n",
    "        print(f\"Error parsing INIT_PARAM: {e}\")\n",
    "    \n",
    "    try:\n",
    "        if line.startswith('ZL'):\n",
    "            zl = line.split('=', 1)[1].split('#')[0].strip()\n",
    "            zl = float(zl)\n",
    "    except Exception as e:\n",
    "        print(f\"Error parsing ZL: {e}\")\n",
    "\n",
    "print(f\"Using constraint: {constraint}\")\n",
    "print(f\"Using omega: {omega}\")\n",
    "print(f\"Using lambda: {lambdac}\")\n",
    "print(f\"Using weos: {weos}\")\n",
    "print(f\"Using Hubble constant: {h0}\")\n",
    "print(f\"Using x_low: {x_low}\")\n",
    "print(f\"Using x_up: {x_up}\")\n",
    "print(f\"Using y_low: {y_low}\")\n",
    "print(f\"Using y_up: {y_up}\")\n",
    "print(f\"Using exten_pix: {exten_pix}\")\n",
    "print(f\"Using point_pix: {point_pix}\")\n",
    "print(f\"Using maxlev: {maxlev}\")\n",
    "print(f\"Using chi2_plane: {chi2_plane}\")\n",
    "print(f\"Using usemag: {usemag}\")\n",
    "print(f\"Using readobs: {readobs}\")\n",
    "print(f\"Using optimize: {optimize}\")\n",
    "print(f\"Using findimg: {findimg}\")\n",
    "print(f\"Using writecrit: {writecrit}\")\n",
    "print(f\"Using writelens: {writelens}\")\n",
    "print(f\"Using model: {basemodel}\")\n",
    "print(f\"Using path: {path}\")\n",
    "print(f\"Using init_param: {init_param}\")\n",
    "print(f\"Using zl: {zl}\")\n",
    "print(\"Config file read successfully.\")"
   ]
  },
  {
   "cell_type": "markdown",
   "id": "2ee9d984",
   "metadata": {},
   "source": [
    "### --------------------------------------------- OBS POINT ---------------------------------------------"
   ]
  },
  {
   "cell_type": "code",
   "execution_count": 426,
   "id": "57cfb522",
   "metadata": {},
   "outputs": [],
   "source": [
    "# Obs Point File Reading\n",
    "obs_columns = ['x', 'y', 'mag', 'pos_err', 'mag_err', 'td', 'td_err', 'parity']\n",
    "first_row_columns = ['id', 'n_img', 'zs', 'zs_err']\n",
    "obs_point = pd.read_csv('Test/obs_point+flux.dat', skiprows=1, header=None, names=obs_columns, delim_whitespace=True)\n",
    "first_row = pd.read_csv('Test/obs_point+flux.dat', nrows=1, header=None, names=first_row_columns, delim_whitespace=True)"
   ]
  },
  {
   "cell_type": "code",
   "execution_count": 427,
   "id": "4ac5cea9",
   "metadata": {},
   "outputs": [],
   "source": [
    "n_img = first_row['n_img'][0]\n",
    "zs = first_row['zs'][0]\n",
    "zs_err = first_row['zs_err'][0]"
   ]
  },
  {
   "cell_type": "code",
   "execution_count": 428,
   "id": "40516d90",
   "metadata": {},
   "outputs": [],
   "source": [
    "# Assigning Names to the Images\n",
    "# Find brightest image\n",
    "brightest_index = obs_point['mag'].idxmax()\n",
    "obs_point.at[brightest_index, 'Img'] = 'A'\n",
    "\n",
    "# Clockwise assignment of names from Img A \n",
    "def assign_image_names(df, start_index):\n",
    "    names = ['A', 'B', 'C', 'D']\n",
    "    current_name_index = 0\n",
    "    current_index = start_index\n",
    "    assigned_indices = {current_index}\n",
    "    \n",
    "    while len(assigned_indices) < len(df):\n",
    "        current_x, current_y = df.at[current_index, 'x'], df.at[current_index, 'y']\n",
    "        next_index = None\n",
    "        max_angle = -float('inf')\n",
    "        \n",
    "        for i in range(len(df)):\n",
    "            if i in assigned_indices:\n",
    "                continue\n",
    "            dx = df.at[i, 'x'] - current_x\n",
    "            dy = df.at[i, 'y'] - current_y\n",
    "            angle = np.arctan2(dy, dx)\n",
    "            if angle > max_angle:\n",
    "                max_angle = angle\n",
    "                next_index = i\n",
    "        \n",
    "        if next_index is not None:\n",
    "            current_name_index += 1\n",
    "            df.at[next_index, 'Img'] = names[current_name_index]\n",
    "            assigned_indices.add(next_index)\n",
    "            current_index = next_index\n",
    "\n",
    "assign_image_names(obs_point, brightest_index)\n"
   ]
  },
  {
   "cell_type": "code",
   "execution_count": 429,
   "id": "dd00c0fb",
   "metadata": {},
   "outputs": [
    {
     "data": {
      "application/vnd.microsoft.datawrangler.viewer.v0+json": {
       "columns": [
        {
         "name": "index",
         "rawType": "int64",
         "type": "integer"
        },
        {
         "name": "x",
         "rawType": "float64",
         "type": "float"
        },
        {
         "name": "y",
         "rawType": "float64",
         "type": "float"
        },
        {
         "name": "mag",
         "rawType": "float64",
         "type": "float"
        },
        {
         "name": "pos_err",
         "rawType": "float64",
         "type": "float"
        },
        {
         "name": "mag_err",
         "rawType": "float64",
         "type": "float"
        },
        {
         "name": "td",
         "rawType": "float64",
         "type": "float"
        },
        {
         "name": "td_err",
         "rawType": "float64",
         "type": "float"
        },
        {
         "name": "parity",
         "rawType": "int64",
         "type": "integer"
        },
        {
         "name": "Img",
         "rawType": "object",
         "type": "string"
        }
       ],
       "ref": "c63dbce8-7b21-4335-b839-ecebda6f2cd9",
       "rows": [
        [
         "0",
         "-1.474",
         "0.488",
         "0.86",
         "0.005",
         "0.01",
         "0.0",
         "0.0",
         "0",
         "C"
        ],
        [
         "1",
         "0.832",
         "-1.22",
         "1.0",
         "0.005",
         "0.02",
         "0.0",
         "0.0",
         "0",
         "A"
        ],
        [
         "2",
         "-0.686",
         "-1.191",
         "0.79",
         "0.005",
         "0.02",
         "0.0",
         "0.0",
         "0",
         "B"
        ],
        [
         "3",
         "0.706",
         "0.869",
         "0.39",
         "0.005",
         "0.01",
         "0.0",
         "0.0",
         "0",
         "D"
        ]
       ],
       "shape": {
        "columns": 9,
        "rows": 4
       }
      },
      "text/html": [
       "<div>\n",
       "<style scoped>\n",
       "    .dataframe tbody tr th:only-of-type {\n",
       "        vertical-align: middle;\n",
       "    }\n",
       "\n",
       "    .dataframe tbody tr th {\n",
       "        vertical-align: top;\n",
       "    }\n",
       "\n",
       "    .dataframe thead th {\n",
       "        text-align: right;\n",
       "    }\n",
       "</style>\n",
       "<table border=\"1\" class=\"dataframe\">\n",
       "  <thead>\n",
       "    <tr style=\"text-align: right;\">\n",
       "      <th></th>\n",
       "      <th>x</th>\n",
       "      <th>y</th>\n",
       "      <th>mag</th>\n",
       "      <th>pos_err</th>\n",
       "      <th>mag_err</th>\n",
       "      <th>td</th>\n",
       "      <th>td_err</th>\n",
       "      <th>parity</th>\n",
       "      <th>Img</th>\n",
       "    </tr>\n",
       "  </thead>\n",
       "  <tbody>\n",
       "    <tr>\n",
       "      <th>0</th>\n",
       "      <td>-1.474</td>\n",
       "      <td>0.488</td>\n",
       "      <td>0.86</td>\n",
       "      <td>0.005</td>\n",
       "      <td>0.01</td>\n",
       "      <td>0.0</td>\n",
       "      <td>0.0</td>\n",
       "      <td>0</td>\n",
       "      <td>C</td>\n",
       "    </tr>\n",
       "    <tr>\n",
       "      <th>1</th>\n",
       "      <td>0.832</td>\n",
       "      <td>-1.220</td>\n",
       "      <td>1.00</td>\n",
       "      <td>0.005</td>\n",
       "      <td>0.02</td>\n",
       "      <td>0.0</td>\n",
       "      <td>0.0</td>\n",
       "      <td>0</td>\n",
       "      <td>A</td>\n",
       "    </tr>\n",
       "    <tr>\n",
       "      <th>2</th>\n",
       "      <td>-0.686</td>\n",
       "      <td>-1.191</td>\n",
       "      <td>0.79</td>\n",
       "      <td>0.005</td>\n",
       "      <td>0.02</td>\n",
       "      <td>0.0</td>\n",
       "      <td>0.0</td>\n",
       "      <td>0</td>\n",
       "      <td>B</td>\n",
       "    </tr>\n",
       "    <tr>\n",
       "      <th>3</th>\n",
       "      <td>0.706</td>\n",
       "      <td>0.869</td>\n",
       "      <td>0.39</td>\n",
       "      <td>0.005</td>\n",
       "      <td>0.01</td>\n",
       "      <td>0.0</td>\n",
       "      <td>0.0</td>\n",
       "      <td>0</td>\n",
       "      <td>D</td>\n",
       "    </tr>\n",
       "  </tbody>\n",
       "</table>\n",
       "</div>"
      ],
      "text/plain": [
       "       x      y   mag  pos_err  mag_err   td  td_err  parity Img\n",
       "0 -1.474  0.488  0.86    0.005     0.01  0.0     0.0       0   C\n",
       "1  0.832 -1.220  1.00    0.005     0.02  0.0     0.0       0   A\n",
       "2 -0.686 -1.191  0.79    0.005     0.02  0.0     0.0       0   B\n",
       "3  0.706  0.869  0.39    0.005     0.01  0.0     0.0       0   D"
      ]
     },
     "execution_count": 429,
     "metadata": {},
     "output_type": "execute_result"
    }
   ],
   "source": [
    "obs_point"
   ]
  },
  {
   "cell_type": "code",
   "execution_count": 430,
   "id": "35321543",
   "metadata": {},
   "outputs": [
    {
     "data": {
      "image/png": "[encoded data removed]",
      "text/plain": [
       "<Figure size 800x800 with 1 Axes>"
      ]
     },
     "metadata": {},
     "output_type": "display_data"
    }
   ],
   "source": [
    "plt.figure(figsize=(8, 8))\n",
    "plt.scatter(obs_point['x'], obs_point['y'])\n",
    "plt.xlim(-3.5, 3.5)\n",
    "plt.ylim(-3.5, 3.5)\n",
    "for i, row in obs_point.iterrows():\n",
    "    plt.text(row['x'], row['y'], row['Img'], fontsize=12, ha='center', va='center')"
   ]
  },
  {
   "cell_type": "code",
   "execution_count": 431,
   "id": "cf81906c",
   "metadata": {},
   "outputs": [
    {
     "data": {
      "application/vnd.microsoft.datawrangler.viewer.v0+json": {
       "columns": [
        {
         "name": "index",
         "rawType": "int64",
         "type": "integer"
        },
        {
         "name": "x",
         "rawType": "int64",
         "type": "integer"
        },
        {
         "name": "y",
         "rawType": "int64",
         "type": "integer"
        },
        {
         "name": "mag",
         "rawType": "int64",
         "type": "integer"
        },
        {
         "name": "pos_err",
         "rawType": "int64",
         "type": "integer"
        },
        {
         "name": "mag_err",
         "rawType": "int64",
         "type": "integer"
        },
        {
         "name": "td",
         "rawType": "int64",
         "type": "integer"
        },
        {
         "name": "td_err",
         "rawType": "int64",
         "type": "integer"
        },
        {
         "name": "parity",
         "rawType": "int64",
         "type": "integer"
        }
       ],
       "ref": "33a6b724-6e92-45f7-be6e-0d19da29f903",
       "rows": [
        [
         "0",
         "0",
         "0",
         "0",
         "0",
         "0",
         "0",
         "0",
         "0"
        ],
        [
         "1",
         "0",
         "0",
         "0",
         "0",
         "0",
         "0",
         "0",
         "0"
        ],
        [
         "2",
         "0",
         "0",
         "0",
         "0",
         "0",
         "0",
         "0",
         "0"
        ],
        [
         "3",
         "0",
         "0",
         "0",
         "0",
         "0",
         "0",
         "0",
         "0"
        ]
       ],
       "shape": {
        "columns": 8,
        "rows": 4
       }
      },
      "text/html": [
       "<div>\n",
       "<style scoped>\n",
       "    .dataframe tbody tr th:only-of-type {\n",
       "        vertical-align: middle;\n",
       "    }\n",
       "\n",
       "    .dataframe tbody tr th {\n",
       "        vertical-align: top;\n",
       "    }\n",
       "\n",
       "    .dataframe thead th {\n",
       "        text-align: right;\n",
       "    }\n",
       "</style>\n",
       "<table border=\"1\" class=\"dataframe\">\n",
       "  <thead>\n",
       "    <tr style=\"text-align: right;\">\n",
       "      <th></th>\n",
       "      <th>x</th>\n",
       "      <th>y</th>\n",
       "      <th>mag</th>\n",
       "      <th>pos_err</th>\n",
       "      <th>mag_err</th>\n",
       "      <th>td</th>\n",
       "      <th>td_err</th>\n",
       "      <th>parity</th>\n",
       "    </tr>\n",
       "  </thead>\n",
       "  <tbody>\n",
       "    <tr>\n",
       "      <th>0</th>\n",
       "      <td>0</td>\n",
       "      <td>0</td>\n",
       "      <td>0</td>\n",
       "      <td>0</td>\n",
       "      <td>0</td>\n",
       "      <td>0</td>\n",
       "      <td>0</td>\n",
       "      <td>0</td>\n",
       "    </tr>\n",
       "    <tr>\n",
       "      <th>1</th>\n",
       "      <td>0</td>\n",
       "      <td>0</td>\n",
       "      <td>0</td>\n",
       "      <td>0</td>\n",
       "      <td>0</td>\n",
       "      <td>0</td>\n",
       "      <td>0</td>\n",
       "      <td>0</td>\n",
       "    </tr>\n",
       "    <tr>\n",
       "      <th>2</th>\n",
       "      <td>0</td>\n",
       "      <td>0</td>\n",
       "      <td>0</td>\n",
       "      <td>0</td>\n",
       "      <td>0</td>\n",
       "      <td>0</td>\n",
       "      <td>0</td>\n",
       "      <td>0</td>\n",
       "    </tr>\n",
       "    <tr>\n",
       "      <th>3</th>\n",
       "      <td>0</td>\n",
       "      <td>0</td>\n",
       "      <td>0</td>\n",
       "      <td>0</td>\n",
       "      <td>0</td>\n",
       "      <td>0</td>\n",
       "      <td>0</td>\n",
       "      <td>0</td>\n",
       "    </tr>\n",
       "  </tbody>\n",
       "</table>\n",
       "</div>"
      ],
      "text/plain": [
       "   x  y  mag  pos_err  mag_err  td  td_err  parity\n",
       "0  0  0    0        0        0   0       0       0\n",
       "1  0  0    0        0        0   0       0       0\n",
       "2  0  0    0        0        0   0       0       0\n",
       "3  0  0    0        0        0   0       0       0"
      ]
     },
     "execution_count": 431,
     "metadata": {},
     "output_type": "execute_result"
    }
   ],
   "source": [
    "df = pd.DataFrame(0, columns=obs_columns, index=range(int(first_row.at[0, 'n_img'])))\n",
    "df"
   ]
  },
  {
   "cell_type": "code",
   "execution_count": 432,
   "id": "fcf49695",
   "metadata": {},
   "outputs": [
    {
     "name": "stdout",
     "output_type": "stream",
     "text": [
      "File 'Test/input.dat' generated successfully.\n"
     ]
    }
   ],
   "source": [
    "# Generate the obs_point.dat file\n",
    "constraint = constraint\n",
    "\n",
    "# Building the file\n",
    "with open('Test/input.dat', 'w') as f:\n",
    "    f.write(f\"{first_row.at[0, 'id']} {first_row.at[0, 'n_img']} {first_row.at[0, 'zs']} {first_row.at[0, 'zs_err']}\\n\")\n",
    "\n",
    "    df = pd.DataFrame(0, columns=obs_columns, index=range(int(first_row.at[0, 'n_img'])))\n",
    "\n",
    "    if 'pos' in constraint:\n",
    "        df['x'] = obs_point['x']\n",
    "        df['y'] = obs_point['y']\n",
    "        df['pos_err'] = obs_point['pos_err']\n",
    "    \n",
    "    if 'flux' in constraint:\n",
    "        df['mag'] = obs_point['mag']\n",
    "        df['mag_err'] = obs_point['mag_err']\n",
    "\n",
    "    if 'td' in constraint:\n",
    "        df['td'] = obs_point['td']\n",
    "        df['td_err'] = obs_point['td_err']\n",
    "    \n",
    "    if 'parity' in constraint:\n",
    "        df['parity'] = obs_point['parity']\n",
    "    \n",
    "    f.write(df.to_string(header=False, index=False))\n",
    "    \n",
    "    # Save the file \n",
    "    print(\"File 'Test/input.dat' generated successfully.\")"
   ]
  },
  {
   "cell_type": "markdown",
   "id": "d341f857",
   "metadata": {},
   "source": [
    "### --------------------------------------- INITIAL GUESS GENERATION+READING ---------------------------------------"
   ]
  },
  {
   "cell_type": "code",
   "execution_count": 433,
   "id": "9846cf3c",
   "metadata": {},
   "outputs": [],
   "source": [
    "# Define the lens corresponding parameters (order preserved)\n",
    "# POW\n",
    "pow_params = ['$z_{s,fid}$', 'x', 'y', 'e', '$θ_{e}$', '$r_{Ein}$', '$\\gamma$ (PWI)']\n",
    "\n",
    "# SIE\n",
    "sie_params = ['$\\sigma$', 'x', 'y', 'e', '$θ_{e}$', '$r_{core}$', 'NaN']\n",
    "\n",
    "# NFW\n",
    "nfw_params = ['M', 'x', 'y', 'e', '$θ_{e}$', 'c or $r_{s}$', 'NaN']\n",
    "\n",
    "# EIN\n",
    "ein_params = ['M', 'x', 'y', 'e', '$θ_{e}$', 'c or $r_{s}$', r'$\\alpha_{e}$']\n",
    "\n",
    "# SHEAR \n",
    "shear_params = ['$z_{s,fid}$', 'x', 'y', '$\\gamma$', '$θ_{\\gamma}$', 'NaN', '$\\kappa$']\n",
    "\n",
    "# Sersic\n",
    "sersic_params = ['$M_{tot}$', 'x', 'y', 'e', '$θ_{e}$', '$r_{e}$', '$n$']\n",
    "\n",
    "# MPOLE \n",
    "mpole_params = ['$z_{s,fid}$', 'x', 'y', '$\\eta$', '$\\\\theta_{m}$', 'm', 'n']\n",
    "\n",
    "model_list = ['POW', 'SIE', 'ANFW', 'EIN', 'PERT', 'SERS', 'MPOLE']\n",
    "model_params = {\n",
    "    'POW': pow_params,\n",
    "    'SIE': sie_params,\n",
    "    'ANFW': nfw_params,\n",
    "    'EIN': ein_params,\n",
    "    'PERT': shear_params,\n",
    "    'SERS': sersic_params,\n",
    "    'MPOLE': mpole_params\n",
    "}\n"
   ]
  },
  {
   "cell_type": "code",
   "execution_count": 434,
   "id": "1a145199",
   "metadata": {},
   "outputs": [
    {
     "data": {
      "text/plain": [
       "['POW', 'SHEAR']"
      ]
     },
     "execution_count": 434,
     "metadata": {},
     "output_type": "execute_result"
    }
   ],
   "source": [
    "models = basemodel.split('+') \n",
    "models"
   ]
  },
  {
   "cell_type": "code",
   "execution_count": 435,
   "id": "d1a9e3e9",
   "metadata": {},
   "outputs": [
    {
     "name": "stdout",
     "output_type": "stream",
     "text": [
      "Number of lenses detected: 2\n"
     ]
    }
   ],
   "source": [
    "number_of_lenses = len(models)\n",
    "print(f\"Number of lenses detected: {number_of_lenses}\")\n",
    "\n",
    "if init_param.strip(\"'\\\"\") == 'Manual':\n",
    "\n",
    "    with open('Test/init_param.dat', 'w') as f:\n",
    "        f.write('# Mode: Manual\\n')\n",
    "        f.write('\\n')\n",
    "        for model in models:\n",
    "            model = model.strip()\n",
    "            if model in model_params:\n",
    "                params = model_params[model]\n",
    "                f.write(f\"# Parameter Initial Guesses for {model}:\\n\")\n",
    "                f.write(f'       $z_(l)$       {params[0]}       {params[1]}       {params[2]}       {params[3]}       {params[4]}       {params[5]}       {params[6]}\\n')\n",
    "                f.write(f'Guess:                                                                                                         ')\n",
    "                f.write('\\n')\n",
    "                f.write(f'Flags:                                                                                                         ')\n",
    "                f.write('\\n\\n')\n",
    "            elif model == 'SHEAR':\n",
    "                model = 'PERT'\n",
    "                params = model_params[model]\n",
    "                f.write(f\"# Parameter Initial Guesses for {model}:\\n\")\n",
    "                f.write(f'       $z_(l)$       {params[0]}       {params[1]}       {params[2]}       {params[3]}       {params[4]}       {params[5]}       {params[6]}\\n')\n",
    "                f.write(f'Guess:                                                                                                         ')\n",
    "                f.write('\\n')\n",
    "                f.write(f'Flags:                                                                                                         ')\n",
    "                f.write('\\n\\n')\n",
    "            else:\n",
    "                print(f\"Warning: Model '{model}' not recognized. Skipping.\\n\")\n",
    "        f.write('# Parameter Initial Guesses for Source:\\n')\n",
    "        f.write('       $z_{s,fid}$       x       y\\n')\n",
    "        f.write('Guess:                                                                                                         \\n')\n",
    "        f.write('Flags:                                                                                                         \\n\\n')\n",
    "    \n",
    "    print(\"File 'Test/init_param.dat' generated successfully.\")\n"
   ]
  },
  {
   "cell_type": "code",
   "execution_count": 436,
   "id": "b0793e11",
   "metadata": {},
   "outputs": [],
   "source": [
    "# Automatic Parameter Generation\n",
    "\n",
    "def ell_gen():\n",
    "    e = np.random.uniform(0.0, 0.7)\n",
    "    return e\n",
    "\n",
    "def pa_gen():\n",
    "    pa = np.random.uniform(0.0, 360)\n",
    "    return pa\n",
    "\n",
    "def r_ein_gen():\n",
    "    r_ein = np.random.uniform(0.1, 2.0)\n",
    "    return r_ein\n",
    "\n",
    "def pwi_gen():\n",
    "    pwi = np.random.uniform(1.5, 2.5)\n",
    "    return pwi\n",
    "\n",
    "def sigma_gen():\n",
    "    sigma = np.random.uniform(120, 220)\n",
    "    return sigma\n",
    "\n",
    "def r_core_gen():\n",
    "    r_core = np.random.uniform(0.0, 0.5)\n",
    "    return r_core\n",
    "\n",
    "def M_gen():\n",
    "    M = np.random.uniform(1e10, 1e13)\n",
    "    return M\n",
    "\n",
    "def c_gen():\n",
    "    c = np.random.uniform(30, 90)\n",
    "    return c\n",
    "\n",
    "def alpha_e_gen():\n",
    "    alpha_e = np.random.uniform(1.0, 3.0)\n",
    "    return alpha_e\n",
    "\n",
    "def gamma_gen():\n",
    "    gamma = np.random.uniform(0.0, 0.1)\n",
    "    return gamma\n",
    "\n",
    "def kappa_gen():\n",
    "    kappa = np.random.uniform(0.0, 0.6)\n",
    "    return kappa\n",
    "\n",
    "def eta_gen():\n",
    "    eta = np.random.uniform(0.0, 0.1)\n",
    "    return eta\n",
    "\n",
    "def m_gen():\n",
    "    m = np.random.randint(2, 6)\n",
    "    return m\n",
    "\n",
    "def n_gen():\n",
    "    n = np.random.uniform(1.5, 2.5)\n",
    "    return n\n",
    "\n",
    "def nan_gen():\n",
    "    nan_gen = 0\n",
    "    return nan_gen\n"
   ]
  },
  {
   "cell_type": "code",
   "execution_count": 437,
   "id": "106e96fa",
   "metadata": {},
   "outputs": [
    {
     "name": "stdout",
     "output_type": "stream",
     "text": [
      "Using Random Initial Parameters\n"
     ]
    }
   ],
   "source": [
    "# Reading the init_params file \n",
    "init_file = 'Test/init_param.dat'\n",
    "\n",
    "if init_param.strip(\"'\\\"\") == 'Manual':\n",
    "    # Read the Init Params file\n",
    "    with open(init_file, 'r') as f:\n",
    "        lines = f.readlines()\n",
    "\n",
    "    initial_guesses = []\n",
    "    param_flags = []\n",
    "\n",
    "    # Extract relevant parameters from the config file\n",
    "    for line in lines:\n",
    "        try:\n",
    "            if line.startswith('Guess'):\n",
    "                guess = line.split(':', 1)[1].split()\n",
    "                initial_guesses.append(guess)\n",
    "        except Exception as e:\n",
    "            print(f\"Error parsing GUESS: {e}\")\n",
    "\n",
    "    for line in lines:\n",
    "        try:\n",
    "            if line.startswith('Flags'):\n",
    "                flags = line.split(':', 1)[1].split()\n",
    "                param_flags.append(flags)\n",
    "        except Exception as e:\n",
    "            print(f\"Error parsing FLAGS: {e}\")\n",
    "            \n",
    "elif init_param.strip(\"'\\\"\") == 'Random':\n",
    "    print(\"Using Random Initial Parameters\")\n",
    "\n",
    "    random_params = []\n",
    "\n",
    "    param1 = zl # Always the lens redshift\n",
    "    param3 = (x_low + x_up) / 2 # x position\n",
    "    param4 = (y_low + y_up) / 2 # y position\n",
    "\n",
    "    for model in models:\n",
    "        model = model.strip()\n",
    "        if model == 'POW':\n",
    "            param2 = zs\n",
    "            param5 = ell_gen()\n",
    "            param6 = pa_gen()\n",
    "            param7 = r_ein_gen()\n",
    "            param8 = pwi_gen()\n",
    "        elif model == 'SIE':\n",
    "            param2 = sigma_gen()\n",
    "            param5 = ell_gen()\n",
    "            param6 = pa_gen()\n",
    "            param7 = nan_gen() # CORED SIE IGNORED\n",
    "            param8 = nan_gen()\n",
    "        elif model == 'NFW':\n",
    "            param2 = M_gen()\n",
    "            param5 = ell_gen()\n",
    "            param6 = pa_gen()\n",
    "            param7 = c_gen()\n",
    "            param8 = nan_gen()\n",
    "        elif model == 'EIN':\n",
    "            param2 = M_gen()\n",
    "            param5 = ell_gen()\n",
    "            param6 = pa_gen()\n",
    "            param7 = c_gen()\n",
    "            param8 = alpha_e_gen()\n",
    "        elif model == 'SHEAR' or model == 'PERT':\n",
    "            param2 = zs\n",
    "            param5 = gamma_gen()\n",
    "            param6 = pa_gen()\n",
    "            param7 = nan_gen()\n",
    "            param8 = kappa_gen()\n",
    "        elif model == 'SERS':\n",
    "            param2 = M_gen()\n",
    "            param5 = ell_gen()\n",
    "            param6 = pa_gen()\n",
    "            param7 = r_ein_gen()\n",
    "            param8 = nan_gen()\n",
    "        elif model == 'MPOLE':\n",
    "            param2 = zs\n",
    "            param5 = eta_gen()\n",
    "            param6 = pa_gen()\n",
    "            param7 = m_gen()\n",
    "            param8 = n_gen()\n",
    "\n",
    "        else:\n",
    "            print(f\"Warning: Model '{model}' not recognized. Skipping.\\n\")\n",
    "\n",
    "        random_params.append([param1, param2, param3, param4, param5, param6, param7, param8])\n",
    "\n",
    "    # Source Parameters\n",
    "    param9 = zs\n",
    "    param10 = (x_low + x_up) / 2\n",
    "    param11 = (y_low + y_up) / 2\n",
    "    random_params.append([param9, param10, param11])\n",
    "\n",
    "    initial_guesses = random_params\n",
    "    param_flags = [['1'] * len(guess) for guess in random_params]\n",
    "\n",
    "    with open('Test/init_param.dat', 'w') as f:\n",
    "        f.write('# Mode: Random\\n')\n",
    "        f.write('\\n')\n",
    "        for i, model in enumerate(models):\n",
    "            model = model.strip()\n",
    "            if model in model_params:\n",
    "                params = model_params[model]\n",
    "                f.write(f\"# Parameter Initial Guesses for {model}:\\n\")\n",
    "                f.write(f'       $z_(l)$       {params[0]}       {params[1]}       {params[2]}       {params[3]}       {params[4]}       {params[5]}       {params[6]}\\n')\n",
    "                f.write(f'Guess: {\"       \".join(map(str, initial_guesses[i]))}\\n')\n",
    "                f.write(f'Flags: {\"       \".join(param_flags[i])}\\n\\n')\n",
    "            elif model == 'SHEAR':\n",
    "                model = 'PERT'\n",
    "                params = model_params[model]\n",
    "                f.write(f\"# Parameter Initial Guesses for {model}:\\n\")\n",
    "                f.write(f'       $z_(l)$       {params[0]}       {params[1]}       {params[2]}       {params[3]}       {params[4]}       {params[5]}       {params[6]}\\n')\n",
    "                f.write(f'Guess: {\"       \".join(map(str, initial_guesses[i]))}\\n')\n",
    "                f.write(f'Flags: {\"       \".join(param_flags[i])}\\n\\n')\n",
    "            else:\n",
    "                print(f\"Warning: Model '{model}' not recognized. Skipping.\\n\")\n",
    "        f.write('# Parameter Initial Guesses for Source:\\n')\n",
    "        f.write('       $z_{s,fid}$       x       y\\n')\n",
    "        f.write(f'Guess: {\"       \".join(map(str, initial_guesses[-1]))}\\n')\n",
    "        f.write(f'Flags: {\"       \".join(param_flags[-1])}\\n\\n')\n",
    "\n",
    "for i in range(len(initial_guesses)):\n",
    "    initial_guesses[i] = [str(x) for x in initial_guesses[i]]\n"
   ]
  },
  {
   "cell_type": "code",
   "execution_count": 438,
   "id": "3e1b33d3",
   "metadata": {},
   "outputs": [
    {
     "data": {
      "text/plain": [
       "[['1', '1', '1', '1', '1', '1', '1', '1'],\n",
       " ['1', '1', '1', '1', '1', '1', '1', '1'],\n",
       " ['1', '1', '1']]"
      ]
     },
     "execution_count": 438,
     "metadata": {},
     "output_type": "execute_result"
    }
   ],
   "source": [
    "param_flags"
   ]
  },
  {
   "cell_type": "code",
   "execution_count": 439,
   "id": "c0cfa16c",
   "metadata": {},
   "outputs": [
    {
     "data": {
      "text/plain": [
       "[['0.23',\n",
       "  '0.777',\n",
       "  '0.0',\n",
       "  '0.0',\n",
       "  '0.1701376806303335',\n",
       "  '203.84187898166346',\n",
       "  '1.429535846412665',\n",
       "  '1.7365756324876434'],\n",
       " ['0.23',\n",
       "  '0.777',\n",
       "  '0.0',\n",
       "  '0.0',\n",
       "  '0.055510459132025604',\n",
       "  '36.88460214515385',\n",
       "  '0',\n",
       "  '0.271892237516598'],\n",
       " ['0.777', '0.0', '0.0']]"
      ]
     },
     "execution_count": 439,
     "metadata": {},
     "output_type": "execute_result"
    }
   ],
   "source": [
    "initial_guesses"
   ]
  },
  {
   "cell_type": "markdown",
   "id": "7e955241",
   "metadata": {},
   "source": [
    "### --------------------------------------- PYTHON FILE GENERATION ---------------------------------------"
   ]
  },
  {
   "cell_type": "code",
   "execution_count": 440,
   "id": "4a006eec",
   "metadata": {},
   "outputs": [
    {
     "name": "stdout",
     "output_type": "stream",
     "text": [
      "Test/POW+SHEAR\n"
     ]
    }
   ],
   "source": [
    "save_path = path + str(basemodel)\n",
    "print(save_path)"
   ]
  },
  {
   "cell_type": "code",
   "execution_count": 441,
   "id": "9cbc3610",
   "metadata": {},
   "outputs": [
    {
     "name": "stdout",
     "output_type": "stream",
     "text": [
      "File 'Test/model.py' generated successfully.\n"
     ]
    }
   ],
   "source": [
    "with open('Test/model.py', 'w') as f:\n",
    "    f.write(\"import glafic\\n\\n\")\n",
    "    f.write(f\"glafic.init({omega}, {lambdac}, {weos}, {h0}, '{save_path}', {x_low}, {y_low}, {x_up}, {y_up}, {exten_pix}, {point_pix}, {maxlev}, verb=0)\\n\\n\")\n",
    "    f.write(f\"glafic.set_secondary('chi2_splane {chi2_plane}', verb=0)\\n\")\n",
    "    f.write(f\"glafic.set_secondary('chi2_checknimg 0', verb=0)\\n\")\n",
    "    f.write(f\"glafic.set_secondary('chi2_restart -1', verb=0)\\n\")\n",
    "    f.write(f\"glafic.set_secondary('chi2_usemag {usemag}', verb=0)\\n\")\n",
    "    f.write(f\"glafic.set_secondary('hvary 0', verb=0)\\n\")\n",
    "    for model in models:\n",
    "        if model == 'NFW' or model == 'EIN' or model == 'ANFW':\n",
    "            print(\"NFW detected, setting flag_hodensity to 2\")\n",
    "            f.write(f\"glafic.set_secondary('flag_hodensity 2', verb=0)\\n\")\n",
    "    f.write(f\"glafic.set_secondary('ran_seed -122000', verb=0)\\n\\n\")\n",
    "    f.write(f\"glafic.startup_setnum({number_of_lenses}, 0, 1)\\n\")\n",
    "    for i in range(number_of_lenses):\n",
    "        if models[i] == 'SHEAR':\n",
    "            models[i] = 'PERT'\n",
    "        if models[i]  == 'NFW':\n",
    "            models[i] = 'ANFW'\n",
    "        f.write(f\"glafic.set_lens({i+1}, '{models[i].lower()}', \" + ', '.join(initial_guesses[i]) + \")\\n\")\n",
    "        f.write(f\"glafic.setopt_lens({i+1}, \" + ', '.join(param_flags[i]) + \")\\n\\n\")\n",
    "    f.write(f\"glafic.set_point(1, \" + ', '.join(initial_guesses[-1]) + \")\\n\")\n",
    "    f.write(f\"glafic.setopt_point(1, \" + ', '.join(param_flags[-1]) + \")\\n\\n\")\n",
    "    f.write(f\"glafic.model_init(verb=0)\\n\\n\")\n",
    "    f.write(f\"glafic.readobs_point({readobs})\\n\")\n",
    "    if optimize == 1:\n",
    "        f.write(f\"glafic.optimize()\\n\")\n",
    "    if findimg == 1:\n",
    "        f.write(f\"glafic.findimg()\\n\")\n",
    "    if writecrit == 1:\n",
    "        f.write(f\"glafic.writecrit({zs})\\n\")\n",
    "    if writelens == 1:\n",
    "        f.write(f\"glafic.writelens({zs})\\n\")\n",
    "    f.write(f\"\\n\")\n",
    "    f.write(f\"glafic.quit()\\n\")\n",
    "    print(\"File 'Test/model.py' generated successfully.\")"
   ]
  },
  {
   "cell_type": "markdown",
   "id": "ed220fe0",
   "metadata": {},
   "source": [
    "### --------------------------------------- PLOTTING ---------------------------------------"
   ]
  },
  {
   "cell_type": "code",
   "execution_count": 442,
   "id": "dcb707bf",
   "metadata": {},
   "outputs": [
    {
     "name": "stdout",
     "output_type": "stream",
     "text": [
      "Warning: Number of predicted images (2) is less than number of observed images (4).\n"
     ]
    }
   ],
   "source": [
    "opt_file = save_path + '_optresult.dat'\n",
    "crit_file = save_path + '_crit.dat'\n",
    "lens_file = save_path + '_lens.dat'\n",
    "point_file = save_path + '_point.dat'\n",
    "\n",
    "def calculate_distance(row1, row2):\n",
    "    return np.sqrt((row1['x'] - row2['x'])**2 + (row1['y'] - row2['y'])**2)\n",
    "\n",
    "# Reading the files\n",
    "if findimg == 1:\n",
    "    try:\n",
    "        pred_point = pd.read_csv(point_file, skiprows=1, header=None, delim_whitespace=True, names=['x', 'y', 'mag', 'td'])\n",
    "        num_pred_images = len(pred_point)\n",
    "\n",
    "        if num_pred_images > n_img:\n",
    "            print(f\"Warning: Number of predicted images ({num_pred_images}) exceeds number of observed images ({n_img}).\")\n",
    "            print(\"Automatic matching of images\\n\")\n",
    "\n",
    "            # Matching predicted images to observed images based on proximity\n",
    "            distance_matrix = np.zeros((n_img, num_pred_images))\n",
    "            for i in range(n_img):\n",
    "                for j in range(num_pred_images):\n",
    "                    distance_matrix[i, j] = calculate_distance(obs_point.iloc[i], pred_point.iloc[j])\n",
    "\n",
    "            # The lowest n_img distances will be considered matches\n",
    "            matched_indices = np.unravel_index(np.argsort(distance_matrix, axis=None), distance_matrix.shape)\n",
    "            matched_pred_indices = set()\n",
    "            matched_obs_indices = set()\n",
    "            matches = []\n",
    "            for obs_idx, pred_idx in zip(*matched_indices):\n",
    "                if obs_idx not in matched_obs_indices and pred_idx not in matched_pred_indices:\n",
    "                    matches.append((obs_idx, pred_idx))\n",
    "                    matched_obs_indices.add(obs_idx)\n",
    "                    matched_pred_indices.add(pred_idx)\n",
    "                if len(matches) == n_img:\n",
    "                    break\n",
    "            \n",
    "            # Perform row switching such that all matches are in order of observed images\n",
    "            matches.sort(key=lambda x: x[0])\n",
    "\n",
    "            # Keep only matched predicted images\n",
    "            matched_pred_indices = [pred_idx for _, pred_idx in matches]\n",
    "            pred_point = pred_point.iloc[matched_pred_indices].reset_index(drop=True)\n",
    "\n",
    "            pred_point['Img'] = obs_point['Img'].values\n",
    "        \n",
    "        if num_pred_images < n_img:\n",
    "            print(f\"Warning: Number of predicted images ({num_pred_images}) is less than number of observed images ({n_img}).\")\n",
    "\n",
    "            # Matching predicted images to observed images based on proximity\n",
    "            distance_matrix = np.zeros((n_img, num_pred_images))\n",
    "            for i in range(n_img):\n",
    "                for j in range(num_pred_images):\n",
    "                    distance_matrix[i, j] = calculate_distance(obs_point.iloc[i], pred_point.iloc[j])\n",
    "            \n",
    "            # The lowest num_pred_images distances will be considered matches\n",
    "            matched_indices = np.unravel_index(np.argsort(distance_matrix, axis=None), distance_matrix.shape)\n",
    "            matched_pred_indices = set()\n",
    "            matched_obs_indices = set()\n",
    "            matches = []\n",
    "            for obs_idx, pred_idx in zip(*matched_indices):\n",
    "                if obs_idx not in matched_obs_indices and pred_idx not in matched_pred_indices:\n",
    "                    matches.append((obs_idx, pred_idx))\n",
    "                    matched_obs_indices.add(obs_idx)\n",
    "                    matched_pred_indices.add(pred_idx)\n",
    "                if len(matches) == num_pred_images:\n",
    "                    break\n",
    "            \n",
    "            # Assign names to matched predicted images\n",
    "            matches.sort(key=lambda x: x[0])\n",
    "            matched_pred_indices = [pred_idx for _, pred_idx in matches]\n",
    "            pred_point = pred_point.iloc[matched_pred_indices].reset_index(drop=True)\n",
    "            pred_point['Img'] = [obs_point.at[obs_idx, 'Img'] for obs_idx, _ in matches]\n",
    "\n",
    "        if num_pred_images == n_img:\n",
    "            \n",
    "            # Directly assign names based on proximity\n",
    "            distance_matrix = np.zeros((n_img, n_img))\n",
    "            for i in range(n_img):\n",
    "                for j in range(n_img):\n",
    "                    distance_matrix[i, j] = calculate_distance(obs_point.iloc[i], pred_point.iloc[j])\n",
    "            \n",
    "            matched_indices = np.unravel_index(np.argsort(distance_matrix, axis=None), distance_matrix.shape)\n",
    "            matched_pred_indices = set()\n",
    "            matched_obs_indices = set()\n",
    "            matches = []\n",
    "            for obs_idx, pred_idx in zip(*matched_indices):\n",
    "                if obs_idx not in matched_obs_indices and pred_idx not in matched_pred_indices:\n",
    "                    matches.append((obs_idx, pred_idx))\n",
    "                    matched_obs_indices.add(obs_idx)\n",
    "                    matched_pred_indices.add(pred_idx)\n",
    "                if len(matches) == n_img:\n",
    "                    break\n",
    "            matches.sort(key=lambda x: x[0])\n",
    "            matched_pred_indices = [pred_idx for _, pred_idx in matches]\n",
    "            pred_point = pred_point.iloc[matched_pred_indices].reset_index(drop=True)\n",
    "            pred_point['Img'] = [obs_point.at[obs_idx, 'Img'] for obs_idx, _ in matches]\n",
    "\n",
    "\n",
    "    except Exception as e:\n",
    "        print(f\"Error reading predicted point file: {e}\")"
   ]
  },
  {
   "cell_type": "code",
   "execution_count": 380,
   "id": "a9f1c1c7",
   "metadata": {},
   "outputs": [
    {
     "data": {
      "application/vnd.microsoft.datawrangler.viewer.v0+json": {
       "columns": [
        {
         "name": "index",
         "rawType": "int64",
         "type": "integer"
        },
        {
         "name": "x",
         "rawType": "float64",
         "type": "float"
        },
        {
         "name": "y",
         "rawType": "float64",
         "type": "float"
        },
        {
         "name": "mag",
         "rawType": "float64",
         "type": "float"
        },
        {
         "name": "pos_err",
         "rawType": "float64",
         "type": "float"
        },
        {
         "name": "mag_err",
         "rawType": "float64",
         "type": "float"
        },
        {
         "name": "td",
         "rawType": "float64",
         "type": "float"
        },
        {
         "name": "td_err",
         "rawType": "float64",
         "type": "float"
        },
        {
         "name": "parity",
         "rawType": "int64",
         "type": "integer"
        },
        {
         "name": "Img",
         "rawType": "object",
         "type": "string"
        }
       ],
       "ref": "b8076ea6-5b53-4db7-a3b4-662c42a4a441",
       "rows": [
        [
         "0",
         "-1.474",
         "0.488",
         "0.86",
         "0.005",
         "0.01",
         "0.0",
         "0.0",
         "0",
         "C"
        ],
        [
         "1",
         "0.832",
         "-1.22",
         "1.0",
         "0.005",
         "0.02",
         "0.0",
         "0.0",
         "0",
         "A"
        ],
        [
         "2",
         "-0.686",
         "-1.191",
         "0.79",
         "0.005",
         "0.02",
         "0.0",
         "0.0",
         "0",
         "B"
        ],
        [
         "3",
         "0.706",
         "0.869",
         "0.39",
         "0.005",
         "0.01",
         "0.0",
         "0.0",
         "0",
         "D"
        ]
       ],
       "shape": {
        "columns": 9,
        "rows": 4
       }
      },
      "text/html": [
       "<div>\n",
       "<style scoped>\n",
       "    .dataframe tbody tr th:only-of-type {\n",
       "        vertical-align: middle;\n",
       "    }\n",
       "\n",
       "    .dataframe tbody tr th {\n",
       "        vertical-align: top;\n",
       "    }\n",
       "\n",
       "    .dataframe thead th {\n",
       "        text-align: right;\n",
       "    }\n",
       "</style>\n",
       "<table border=\"1\" class=\"dataframe\">\n",
       "  <thead>\n",
       "    <tr style=\"text-align: right;\">\n",
       "      <th></th>\n",
       "      <th>x</th>\n",
       "      <th>y</th>\n",
       "      <th>mag</th>\n",
       "      <th>pos_err</th>\n",
       "      <th>mag_err</th>\n",
       "      <th>td</th>\n",
       "      <th>td_err</th>\n",
       "      <th>parity</th>\n",
       "      <th>Img</th>\n",
       "    </tr>\n",
       "  </thead>\n",
       "  <tbody>\n",
       "    <tr>\n",
       "      <th>0</th>\n",
       "      <td>-1.474</td>\n",
       "      <td>0.488</td>\n",
       "      <td>0.86</td>\n",
       "      <td>0.005</td>\n",
       "      <td>0.01</td>\n",
       "      <td>0.0</td>\n",
       "      <td>0.0</td>\n",
       "      <td>0</td>\n",
       "      <td>C</td>\n",
       "    </tr>\n",
       "    <tr>\n",
       "      <th>1</th>\n",
       "      <td>0.832</td>\n",
       "      <td>-1.220</td>\n",
       "      <td>1.00</td>\n",
       "      <td>0.005</td>\n",
       "      <td>0.02</td>\n",
       "      <td>0.0</td>\n",
       "      <td>0.0</td>\n",
       "      <td>0</td>\n",
       "      <td>A</td>\n",
       "    </tr>\n",
       "    <tr>\n",
       "      <th>2</th>\n",
       "      <td>-0.686</td>\n",
       "      <td>-1.191</td>\n",
       "      <td>0.79</td>\n",
       "      <td>0.005</td>\n",
       "      <td>0.02</td>\n",
       "      <td>0.0</td>\n",
       "      <td>0.0</td>\n",
       "      <td>0</td>\n",
       "      <td>B</td>\n",
       "    </tr>\n",
       "    <tr>\n",
       "      <th>3</th>\n",
       "      <td>0.706</td>\n",
       "      <td>0.869</td>\n",
       "      <td>0.39</td>\n",
       "      <td>0.005</td>\n",
       "      <td>0.01</td>\n",
       "      <td>0.0</td>\n",
       "      <td>0.0</td>\n",
       "      <td>0</td>\n",
       "      <td>D</td>\n",
       "    </tr>\n",
       "  </tbody>\n",
       "</table>\n",
       "</div>"
      ],
      "text/plain": [
       "       x      y   mag  pos_err  mag_err   td  td_err  parity Img\n",
       "0 -1.474  0.488  0.86    0.005     0.01  0.0     0.0       0   C\n",
       "1  0.832 -1.220  1.00    0.005     0.02  0.0     0.0       0   A\n",
       "2 -0.686 -1.191  0.79    0.005     0.02  0.0     0.0       0   B\n",
       "3  0.706  0.869  0.39    0.005     0.01  0.0     0.0       0   D"
      ]
     },
     "execution_count": 380,
     "metadata": {},
     "output_type": "execute_result"
    }
   ],
   "source": [
    "obs_point"
   ]
  },
  {
   "cell_type": "code",
   "execution_count": 443,
   "id": "48036409",
   "metadata": {},
   "outputs": [
    {
     "data": {
      "application/vnd.microsoft.datawrangler.viewer.v0+json": {
       "columns": [
        {
         "name": "index",
         "rawType": "int64",
         "type": "integer"
        },
        {
         "name": "x",
         "rawType": "float64",
         "type": "float"
        },
        {
         "name": "y",
         "rawType": "float64",
         "type": "float"
        },
        {
         "name": "mag",
         "rawType": "float64",
         "type": "float"
        },
        {
         "name": "td",
         "rawType": "float64",
         "type": "float"
        },
        {
         "name": "Img",
         "rawType": "object",
         "type": "string"
        }
       ],
       "ref": "db36ce8f-53c5-4c55-a5ec-f7ed725a1fab",
       "rows": [
        [
         "0",
         "-0.6862",
         "-1.1915",
         "1796.8576",
         "0.0",
         "B"
        ],
        [
         "1",
         "0.576",
         "1.2064",
         "-1813.6079",
         "0.146",
         "D"
        ]
       ],
       "shape": {
        "columns": 5,
        "rows": 2
       }
      },
      "text/html": [
       "<div>\n",
       "<style scoped>\n",
       "    .dataframe tbody tr th:only-of-type {\n",
       "        vertical-align: middle;\n",
       "    }\n",
       "\n",
       "    .dataframe tbody tr th {\n",
       "        vertical-align: top;\n",
       "    }\n",
       "\n",
       "    .dataframe thead th {\n",
       "        text-align: right;\n",
       "    }\n",
       "</style>\n",
       "<table border=\"1\" class=\"dataframe\">\n",
       "  <thead>\n",
       "    <tr style=\"text-align: right;\">\n",
       "      <th></th>\n",
       "      <th>x</th>\n",
       "      <th>y</th>\n",
       "      <th>mag</th>\n",
       "      <th>td</th>\n",
       "      <th>Img</th>\n",
       "    </tr>\n",
       "  </thead>\n",
       "  <tbody>\n",
       "    <tr>\n",
       "      <th>0</th>\n",
       "      <td>-0.6862</td>\n",
       "      <td>-1.1915</td>\n",
       "      <td>1796.8576</td>\n",
       "      <td>0.000</td>\n",
       "      <td>B</td>\n",
       "    </tr>\n",
       "    <tr>\n",
       "      <th>1</th>\n",
       "      <td>0.5760</td>\n",
       "      <td>1.2064</td>\n",
       "      <td>-1813.6079</td>\n",
       "      <td>0.146</td>\n",
       "      <td>D</td>\n",
       "    </tr>\n",
       "  </tbody>\n",
       "</table>\n",
       "</div>"
      ],
      "text/plain": [
       "        x       y        mag     td Img\n",
       "0 -0.6862 -1.1915  1796.8576  0.000   B\n",
       "1  0.5760  1.2064 -1813.6079  0.146   D"
      ]
     },
     "execution_count": 443,
     "metadata": {},
     "output_type": "execute_result"
    }
   ],
   "source": [
    "pred_point"
   ]
  }
 ],
 "metadata": {
  "kernelspec": {
   "display_name": "Python 3",
   "language": "python",
   "name": "python3"
  },
  "language_info": {
   "codemirror_mode": {
    "name": "ipython",
    "version": 3
   },
   "file_extension": ".py",
   "mimetype": "text/x-python",
   "name": "python",
   "nbconvert_exporter": "python",
   "pygments_lexer": "ipython3",
   "version": "3.11.5"
  }
 },
 "nbformat": 4,
 "nbformat_minor": 5
}
